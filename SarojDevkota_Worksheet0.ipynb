{
  "nbformat": 4,
  "nbformat_minor": 0,
  "metadata": {
    "colab": {
      "provenance": []
    },
    "kernelspec": {
      "name": "python3",
      "display_name": "Python 3"
    },
    "language_info": {
      "name": "python"
    }
  },
  "cells": [
    {
      "cell_type": "markdown",
      "source": [
        "Worksheet 0"
      ],
      "metadata": {
        "id": "b2bJzQVKvK-s"
      }
    },
    {
      "cell_type": "markdown",
      "source": [
        "Task - 1:\n",
        "Create a Python program that converts between different units of measurement.\n",
        "• The program should:\n",
        "1. Prompt the user to choose the type of conversion (e.g., length, weight, volume).\n",
        "2. Ask the user to input the value to be converted.\n",
        "3. Perform the conversion and display the result.\n",
        "4. Handle potential errors, such as invalid input or unsupported conversion types.\n",
        "\n",
        "• Requirements:\n",
        "1. Functions: Define at least one function to perform the conversion.\n",
        "2. Error Handling: Use try-except blocks to handle invalid input (e.g., non-numeric values).\n",
        "3. User Input: Prompt the user to select the conversion type and input the value.\n",
        "4. Docstrings: Include a docstring in your function to describe its purpose, parameters, and\n",
        "return value.\n",
        "\n",
        "• Conversion Options:\n",
        "1. Length:\n",
        "– Convert meters (m) to feet (ft).\n",
        "– Convert feet (ft) to meters (m).\n",
        "2. Weight:\n",
        "– Convert kilograms (kg) to pounds (lbs).\n",
        "– Convert pounds (lbs) to kilograms (kg).\n",
        "3. Volume:\n",
        "– Convert liters (L) to gallons (gal).\n",
        "– Convert gallons (gal) to liters (L)."
      ],
      "metadata": {
        "id": "MTRMZZPivcIA"
      }
    },
    {
      "cell_type": "code",
      "execution_count": null,
      "metadata": {
        "colab": {
          "base_uri": "https://localhost:8080/"
        },
        "id": "pYtFLHX4u9jM",
        "outputId": "73e7c238-f152-4ef2-f202-e6f8c4ef0a82"
      },
      "outputs": [
        {
          "output_type": "stream",
          "name": "stdout",
          "text": [
            "Unit Converter: Length, Weight, Volume\n",
            "1. Length (meters to feet, feet to meters)\n",
            "2. Weight (kilograms to pounds, pounds to kilograms)\n",
            "3. Volume (liters to gallons, gallons to liters)\n",
            "Select conversion type (1-3): 2\n",
            "Enter value to transform: 6\n",
            "Enter unit ('kg' for kilograms, 'lbs' for pounds): kg\n",
            "Converted value: 13.23 lbs\n"
          ]
        }
      ],
      "source": [
        "def transform_length(amount, measurement):\n",
        "    \"\"\"\n",
        "    Convert length between meters and feet.\n",
        "    :param amount: The numerical value to be transformed.\n",
        "    :param measurement: The original unit ('m' for meters, 'ft' for feet).\n",
        "    :return: Transformed value.\n",
        "    \"\"\"\n",
        "    if measurement == 'm':\n",
        "        return amount * 3.28084  # Convert meters to feet\n",
        "    elif measurement == 'ft':\n",
        "        return amount / 3.28084  # Convert feet to meters\n",
        "    else:\n",
        "        raise ValueError(\"Unsupported length measurement.\")\n",
        "\n",
        "def transform_weight(amount, measurement):\n",
        "    \"\"\"\n",
        "    Convert weight between kilograms and pounds.\n",
        "    :param amount: The numerical value to be transformed.\n",
        "    :param measurement: The original unit ('kg' for kilograms, 'lbs' for pounds).\n",
        "    :return: Transformed value.\n",
        "    \"\"\"\n",
        "    if measurement == 'kg':\n",
        "        return amount * 2.20462  # Convert kilograms to pounds\n",
        "    elif measurement == 'lbs':\n",
        "        return amount / 2.20462  # Convert pounds to kilograms\n",
        "    else:\n",
        "        raise ValueError(\"Unsupported weight measurement.\")\n",
        "\n",
        "def transform_volume(amount, measurement):\n",
        "    \"\"\"\n",
        "    Convert volume between liters and gallons.\n",
        "    :param amount: The numerical value to be transformed.\n",
        "    :param measurement: The original unit ('L' for liters, 'gal' for gallons).\n",
        "    :return: Transformed value.\n",
        "    \"\"\"\n",
        "    if measurement == 'L':\n",
        "        return amount * 0.264172  # Convert liters to gallons\n",
        "    elif measurement == 'gal':\n",
        "        return amount / 0.264172  # Convert gallons to liters\n",
        "    else:\n",
        "        raise ValueError(\"Unsupported volume measurement.\")\n",
        "\n",
        "def execute_conversion():\n",
        "    \"\"\"Handles user input and processes the unit transformation.\"\"\"\n",
        "    print(\"Unit Converter: Length, Weight, Volume\")\n",
        "    print(\"1. Length (meters to feet, feet to meters)\")\n",
        "    print(\"2. Weight (kilograms to pounds, pounds to kilograms)\")\n",
        "    print(\"3. Volume (liters to gallons, gallons to liters)\")\n",
        "\n",
        "    try:\n",
        "        category = int(input(\"Select conversion type (1-3): \"))\n",
        "        amount = float(input(\"Enter value to transform: \"))\n",
        "\n",
        "        if category == 1:\n",
        "            measurement = input(\"Enter unit ('m' for meters, 'ft' for feet): \").strip().lower()\n",
        "            outcome = transform_length(amount, measurement)\n",
        "            new_measurement = 'ft' if measurement == 'm' else 'm'\n",
        "        elif category == 2:\n",
        "            measurement = input(\"Enter unit ('kg' for kilograms, 'lbs' for pounds): \").strip().lower()\n",
        "            outcome = transform_weight(amount, measurement)\n",
        "            new_measurement = 'lbs' if measurement == 'kg' else 'kg'\n",
        "        elif category == 3:\n",
        "            measurement = input(\"Enter unit ('L' for liters, 'gal' for gallons): \").strip().lower()\n",
        "            outcome = transform_volume(amount, measurement)\n",
        "            new_measurement = 'gal' if measurement == 'L' else 'L'\n",
        "        else:\n",
        "            print(\"Invalid choice. Please select a valid option.\")\n",
        "            return\n",
        "\n",
        "        print(f\"Converted value: {outcome:.2f} {new_measurement}\")\n",
        "\n",
        "    except ValueError as err:\n",
        "        print(f\"Error: {err}. Please enter valid input.\")\n",
        "\n",
        "if __name__ == \"__main__\":\n",
        "    execute_conversion()\n"
      ]
    },
    {
      "cell_type": "markdown",
      "source": [
        "Task 2: Create a Python program that performs various mathematical operations on a list of numbers."
      ],
      "metadata": {
        "id": "EG_Xftwvvlj2"
      }
    },
    {
      "cell_type": "code",
      "source": [
        "def compute_total(values):\n",
        "    \"\"\"\n",
        "    Compute the total sum of a list of values.\n",
        "    :param values: List of numerical inputs.\n",
        "    :return: Total sum of the values.\n",
        "    \"\"\"\n",
        "    return sum(values)\n",
        "\n",
        "def compute_mean(values):\n",
        "    \"\"\"\n",
        "    Compute the average of a list of values.\n",
        "    :param values: List of numerical inputs.\n",
        "    :return: Mean value of the list.\n",
        "    \"\"\"\n",
        "    return sum(values) / len(values) if values else 0  # Prevent division by zero\n",
        "\n",
        "def get_highest_value(values):\n",
        "    \"\"\"\n",
        "    Identify the highest number in a list.\n",
        "    :param values: List of numerical inputs.\n",
        "    :return: The largest number in the list.\n",
        "    \"\"\"\n",
        "    return max(values)\n",
        "\n",
        "def get_lowest_value(values):\n",
        "    \"\"\"\n",
        "    Identify the lowest number in a list.\n",
        "    :param values: List of numerical inputs.\n",
        "    :return: The smallest number in the list.\n",
        "    \"\"\"\n",
        "    return min(values)\n",
        "\n",
        "def execute_math_operations():\n",
        "    \"\"\"Handles user input and executes the chosen mathematical operation.\"\"\"\n",
        "    print(\"Mathematical Operations on a List of Numbers\")\n",
        "    print(\"1. Total Sum\")\n",
        "    print(\"2. Average Value\")\n",
        "    print(\"3. Highest Number\")\n",
        "    print(\"4. Lowest Number\")\n",
        "\n",
        "    try:\n",
        "        selection = int(input(\"Select an operation (1-4): \"))\n",
        "        values = list(map(float, input(\"Enter numbers separated by spaces: \").split()))\n",
        "\n",
        "        if not values:\n",
        "            raise ValueError(\"List is empty. At least one number is required.\")\n",
        "\n",
        "        if selection == 1:\n",
        "            outcome = compute_total(values)\n",
        "            operation_name = \"Total Sum\"\n",
        "        elif selection == 2:\n",
        "            outcome = compute_mean(values)\n",
        "            operation_name = \"Average Value\"\n",
        "        elif selection == 3:\n",
        "            outcome = get_highest_value(values)\n",
        "            operation_name = \"Highest Number\"\n",
        "        elif selection == 4:\n",
        "            outcome = get_lowest_value(values)\n",
        "            operation_name = \"Lowest Number\"\n",
        "        else:\n",
        "            print(\"Invalid choice. Please select a valid option.\")\n",
        "            return\n",
        "\n",
        "        print(f\"{operation_name}: {outcome:.2f}\")\n",
        "\n",
        "    except ValueError as err:\n",
        "        print(f\"Error: {err}. Please enter valid numerical input.\")\n",
        "\n",
        "if __name__ == \"__main__\":\n",
        "    execute_math_operations()"
      ],
      "metadata": {
        "colab": {
          "base_uri": "https://localhost:8080/"
        },
        "id": "fqSH6Se9vmZz",
        "outputId": "80f94ceb-f7c9-483e-d5ea-8e53ef79f2b5"
      },
      "execution_count": null,
      "outputs": [
        {
          "output_type": "stream",
          "name": "stdout",
          "text": [
            "Mathematical Operations on a List of Numbers\n",
            "1. Total Sum\n",
            "2. Average Value\n",
            "3. Highest Number\n",
            "4. Lowest Number\n",
            "Select an operation (1-4): 3\n",
            "Enter numbers separated by spaces: 6\n",
            "Highest Number: 6.00\n"
          ]
        }
      ]
    },
    {
      "cell_type": "markdown",
      "source": [
        "Exercise on List Manipulation"
      ],
      "metadata": {
        "id": "gP4z0e6owNYu"
      }
    },
    {
      "cell_type": "markdown",
      "source": [
        "1. Write a Python function that extracts every other element from a list, starting from the first element."
      ],
      "metadata": {
        "id": "yKtegVFhwWZJ"
      }
    },
    {
      "cell_type": "code",
      "source": [
        "def select_alternate_elements(sequence):\n",
        "    \"\"\"\n",
        "    Retrieve every alternate element from the given list, beginning with the first element.\n",
        "    :param sequence: List containing various elements.\n",
        "    :return: A new list with every alternate element.\n",
        "    \"\"\"\n",
        "    return sequence[::2]  # Utilize slicing to obtain every alternate element\n",
        "\n",
        "# Example usage\n",
        "sample_list = [1, 2, 3, 4, 5, 6, 7, 8, 9]\n",
        "result_list = select_alternate_elements(sample_list)\n",
        "print(\"Output:\", result_list)"
      ],
      "metadata": {
        "colab": {
          "base_uri": "https://localhost:8080/"
        },
        "id": "xSpOOuBnwXEe",
        "outputId": "bb0ff63a-4fba-4e99-9f2c-1433d97e50b1"
      },
      "execution_count": null,
      "outputs": [
        {
          "output_type": "stream",
          "name": "stdout",
          "text": [
            "Output: [1, 3, 5, 7, 9]\n"
          ]
        }
      ]
    },
    {
      "cell_type": "markdown",
      "source": [
        "2. Write a Python function that returns a sublist from a given list, starting from a specified index and\n",
        "ending at another specified index."
      ],
      "metadata": {
        "id": "O_ldq2aAw1-C"
      }
    },
    {
      "cell_type": "code",
      "source": [
        "def get_sublist(lst, start, end):\n",
        "    return lst[start:end]\n",
        "\n",
        "def reverse_list(lst):\n",
        "    return lst[::-1]\n",
        "\n",
        "# Example usage\n",
        "list = [1, 2, 3, 4, 5, 6, 7, 8, 9, 10]  # Example list\n",
        "\n",
        "sublist_result = get_sublist(list, 1, 9)\n",
        "print(f\"Sublist from index 1 to 9: {sublist_result}\")"
      ],
      "metadata": {
        "colab": {
          "base_uri": "https://localhost:8080/"
        },
        "id": "iExyXKsIw5AY",
        "outputId": "d027500b-04a8-4018-c366-dbf8f12d8876"
      },
      "execution_count": null,
      "outputs": [
        {
          "output_type": "stream",
          "name": "stdout",
          "text": [
            "Sublist from index 1 to 9: [2, 3, 4, 5, 6, 7, 8, 9]\n"
          ]
        }
      ]
    },
    {
      "cell_type": "markdown",
      "source": [
        "Task 3: Write a Python function that reverses a list using slicing."
      ],
      "metadata": {
        "id": "1eqSnpqzzXMO"
      }
    },
    {
      "cell_type": "code",
      "source": [
        "def get_sublist(lst, start, end):\n",
        "    return lst[start:end]\n",
        "\n",
        "def reverse_list(lst):\n",
        "    return lst[::-1]\n",
        "\n",
        "# Example usage\n",
        "list = [1, 2, 3, 4, 5, 6, 7, 8, 9, 10]\n",
        "\n",
        "reversed_list = reverse_list(list)\n",
        "print(f\"Reversed list: {reversed_list}\")"
      ],
      "metadata": {
        "colab": {
          "base_uri": "https://localhost:8080/"
        },
        "id": "NHI0rEepzd1k",
        "outputId": "f53fdeb4-375e-412c-c017-11b0e6649c05"
      },
      "execution_count": null,
      "outputs": [
        {
          "output_type": "stream",
          "name": "stdout",
          "text": [
            "Reversed list: [10, 9, 8, 7, 6, 5, 4, 3, 2, 1]\n"
          ]
        }
      ]
    },
    {
      "cell_type": "markdown",
      "source": [
        "Task 4: Write a Python function that removes the first and last elements of a list and returns the resulting\n",
        "sublist."
      ],
      "metadata": {
        "id": "m9Z1BHenxmWm"
      }
    },
    {
      "cell_type": "code",
      "source": [
        "def remove_first_last(lst):\n",
        "    \"\"\"\n",
        "    Remove the first and last elements from the list and return the resulting sublist.\n",
        "    :param lst: List of elements.\n",
        "    :return: Sublist without the first and last elements.\n",
        "    \"\"\"\n",
        "    return lst[1:-1]  # Slicing to remove the first and last elements\n",
        "\n",
        "# Example usage\n",
        "input_list = [1, 2, 3, 4, 5]\n",
        "output_list = remove_first_last(input_list)\n",
        "print(\"Output:\", output_list)  # Output: [2, 3, 4]"
      ],
      "metadata": {
        "colab": {
          "base_uri": "https://localhost:8080/"
        },
        "id": "gIRDVAvcyPbW",
        "outputId": "1e94c50f-baf4-4826-dc5e-8756c1793505"
      },
      "execution_count": null,
      "outputs": [
        {
          "output_type": "stream",
          "name": "stdout",
          "text": [
            "Output: [2, 3, 4]\n"
          ]
        }
      ]
    },
    {
      "cell_type": "markdown",
      "source": [
        "5: Write a Python function that extracts the first n elements from a list."
      ],
      "metadata": {
        "id": "lHLPf6u-z9NW"
      }
    },
    {
      "cell_type": "code",
      "source": [
        "def get_first_n(lst, n):\n",
        "    \"\"\"\n",
        "    Extract the first n elements from the list using slicing.\n",
        "    :param lst: List of elements.\n",
        "    :param n: Number of elements to extract.\n",
        "    :return: A list of the first n elements.\n",
        "    \"\"\"\n",
        "    return lst[:n]  # Slicing to get the first n elements\n",
        "\n",
        "# Example usage\n",
        "input_list = [1, 2, 3, 4, 5]\n",
        "n = 4\n",
        "output_list = get_first_n(input_list, n)\n",
        "print(\"Output:\", output_list)"
      ],
      "metadata": {
        "colab": {
          "base_uri": "https://localhost:8080/"
        },
        "id": "jl8WL1LW0XyD",
        "outputId": "a094a231-287b-40fa-d673-3d1e629fcc67"
      },
      "execution_count": null,
      "outputs": [
        {
          "output_type": "stream",
          "name": "stdout",
          "text": [
            "Output: [1, 2, 3, 4]\n"
          ]
        }
      ]
    },
    {
      "cell_type": "markdown",
      "source": [
        "7. Write a Python function that extracts a list of elements in reverse order starting from the second-to-last element and skipping one element in between."
      ],
      "metadata": {
        "id": "Ssg4Y8TV0f5a"
      }
    },
    {
      "cell_type": "code",
      "source": [
        "def reverse_alternate_elements(seq):\n",
        "    \"\"\"\n",
        "    Extract every second item starting from the second-to-last and moving backward through the sequence.\n",
        "    :param seq: List of items.\n",
        "    :return: A list of every second item in reverse order, starting from the second-to-last.\n",
        "    \"\"\"\n",
        "    return seq[-2::-2]  # Slice to obtain every second element starting from the second-to-last, moving backward.\n",
        "\n",
        "# Example usage\n",
        "sample_list = [1, 2, 3, 4, 5, 6, 7, 8, 9]\n",
        "result_list = reverse_alternate_elements(sample_list)\n",
        "print(\"Result:\", result_list)\n"
      ],
      "metadata": {
        "colab": {
          "base_uri": "https://localhost:8080/"
        },
        "id": "XJLxBWyE1Dua",
        "outputId": "2fe2f831-f8a3-43da-b1b0-e4eaedca4075"
      },
      "execution_count": null,
      "outputs": [
        {
          "output_type": "stream",
          "name": "stdout",
          "text": [
            "Result: [8, 6, 4, 2]\n"
          ]
        }
      ]
    },
    {
      "cell_type": "markdown",
      "source": [
        "Exercise on Nested Loop"
      ],
      "metadata": {
        "id": "XPi7KnZH1ks1"
      }
    },
    {
      "cell_type": "markdown",
      "source": [
        "Task 1: Write a Python function that takes a nested list and flattens it into a single list, where all the elements are in a single dimension."
      ],
      "metadata": {
        "id": "Ga0MmZSH1qLo"
      }
    },
    {
      "cell_type": "code",
      "source": [
        "from collections.abc import Iterable\n",
        "\n",
        "def flatten_list(nested_list):\n",
        "    \"\"\"Recursively flattens a nested list into a single list.\"\"\"\n",
        "    flat_list = []\n",
        "    for item in nested_list:\n",
        "        if isinstance(item, Iterable) and not isinstance(item, (str, bytes)):\n",
        "            flat_list.extend(flatten_list(item))\n",
        "        else:\n",
        "            flat_list.append(item)\n",
        "    return flat_list\n",
        "\n",
        "# Example usage:\n",
        "nested = [1, [2, [3, 4], 5], [6, 7], 8]\n",
        "flattened = flatten_list(nested)\n",
        "print(flattened)  # Output: [1, 2, 3, 4, 5, 6, 7, 8]\n"
      ],
      "metadata": {
        "colab": {
          "base_uri": "https://localhost:8080/"
        },
        "id": "01NkNI4-1vH3",
        "outputId": "e046bea2-0287-4191-e13b-a784f2ae6374"
      },
      "execution_count": null,
      "outputs": [
        {
          "output_type": "stream",
          "name": "stdout",
          "text": [
            "[1, 2, 3, 4, 5, 6, 7, 8]\n"
          ]
        }
      ]
    },
    {
      "cell_type": "markdown",
      "source": [
        "Task 2: Write a Python function that extracts a specific element from a nested list given its indices."
      ],
      "metadata": {
        "id": "frXDTRWp3Tut"
      }
    },
    {
      "cell_type": "code",
      "source": [
        "def extract_element(nested_list, indices):\n",
        "    \"\"\"Extracts an element from a nested list using a list of indices.\"\"\"\n",
        "    element = nested_list\n",
        "    for index in indices:\n",
        "        element = element[index]\n",
        "    return element\n",
        "\n",
        "# Example usage:\n",
        "nested = [1, [2, [3, 4], 5], [6, 7], 8]\n",
        "indices = [1, 1, 0]  # Accessing nested[1][1][0] → 3\n",
        "result = extract_element(nested, indices)\n",
        "print(result)\n"
      ],
      "metadata": {
        "colab": {
          "base_uri": "https://localhost:8080/"
        },
        "id": "qqE_MEbS3Y98",
        "outputId": "fa386532-2090-4de4-84c7-1fa5a84f4444"
      },
      "execution_count": null,
      "outputs": [
        {
          "output_type": "stream",
          "name": "stdout",
          "text": [
            "3\n"
          ]
        }
      ]
    },
    {
      "cell_type": "markdown",
      "source": [
        "Task 3: Write a Python function that calculates the sum of all the numbers in a nested list (regardless of depth)."
      ],
      "metadata": {
        "id": "Hj1H21Il3hoL"
      }
    },
    {
      "cell_type": "code",
      "source": [
        "from collections.abc import Iterable\n",
        "\n",
        "def sum_nested_list(nested_list):\n",
        "    \"\"\"\n",
        "    Recursively calculates the sum of all numbers in a nested list.\n",
        "\n",
        "    Parameters:\n",
        "    nested_list (list): A nested list containing integers or other lists.\n",
        "\n",
        "    Returns:\n",
        "    int: The sum of all numbers in the nested list.\n",
        "\n",
        "\n",
        "    \"\"\"\n",
        "    total = 0\n",
        "    for item in nested_list:\n",
        "        if isinstance(item, Iterable) and not isinstance(item, (str, bytes)):\n",
        "            total += sum_nested_list(item)  # Recursively sum nested lists\n",
        "        elif isinstance(item, (int, float)):  # Ensure only numbers are added\n",
        "            total += item\n",
        "    return total\n",
        "\n",
        "# Example usage:\n",
        "nested = [1, [2, [3, 4], 5], [6, 7], 8]\n",
        "result = sum_nested_list(nested)\n",
        "print(result)\n"
      ],
      "metadata": {
        "colab": {
          "base_uri": "https://localhost:8080/"
        },
        "id": "rsX16tmj3vSV",
        "outputId": "71c9c8e0-a8d3-4c38-a810-e2332a6b9f68"
      },
      "execution_count": null,
      "outputs": [
        {
          "output_type": "stream",
          "name": "stdout",
          "text": [
            "36\n"
          ]
        }
      ]
    },
    {
      "cell_type": "markdown",
      "source": [
        "Task 4: Write a Python function that removes all occurrences of a specific element from a nested list."
      ],
      "metadata": {
        "id": "vn51yYZf34cR"
      }
    },
    {
      "cell_type": "code",
      "source": [
        "from collections.abc import Iterable\n",
        "\n",
        "def remove_element(nested_list, target):\n",
        "    \"\"\"\n",
        "    Recursively removes all occurrences of a specific element from a nested list.\n",
        "\n",
        "    Parameters:\n",
        "    nested_list (list): A nested list containing elements or other lists.\n",
        "    target (any): The element to be removed from the nested list.\n",
        "\n",
        "    Returns:\n",
        "    list: A new nested list with the target element removed.\n",
        "\n",
        "\n",
        "    \"\"\"\n",
        "    cleaned_list = []\n",
        "    for item in nested_list:\n",
        "        if isinstance(item, Iterable) and not isinstance(item, (str, bytes)):\n",
        "            cleaned_list.append(remove_element(item, target))  # Recursively process sublists\n",
        "        elif item != target:\n",
        "            cleaned_list.append(item)  # Keep elements that are not the target\n",
        "    return cleaned_list\n",
        "\n",
        "# Example usage:\n",
        "nested = [1, [2, [3, 4], 5], [6, 7, 3], 3]\n",
        "result = remove_element(nested, 3)\n",
        "print(result)\n"
      ],
      "metadata": {
        "colab": {
          "base_uri": "https://localhost:8080/"
        },
        "id": "9ET2_8Rp35OD",
        "outputId": "20ff9728-090b-495e-dd8d-44b34ca42693"
      },
      "execution_count": null,
      "outputs": [
        {
          "output_type": "stream",
          "name": "stdout",
          "text": [
            "[1, [2, [4], 5], [6, 7]]\n"
          ]
        }
      ]
    },
    {
      "cell_type": "markdown",
      "source": [
        "Task 5: Write a Python function that finds the maximum element in a nested list (regardless of depth)."
      ],
      "metadata": {
        "id": "ptzxxu8D3-st"
      }
    },
    {
      "cell_type": "code",
      "source": [
        "from collections.abc import Iterable\n",
        "\n",
        "def max_in_nested_list(nested_list):\n",
        "    \"\"\"\n",
        "    Recursively finds the maximum element in a nested list.\n",
        "\n",
        "    Parameters:\n",
        "    nested_list (list): A nested list containing integers or other lists.\n",
        "\n",
        "    Returns:\n",
        "    int/float: The maximum number found in the nested list.\n",
        "\n",
        "\n",
        "    \"\"\"\n",
        "    max_value = float('-inf')  # Initialize with negative infinity\n",
        "\n",
        "    for item in nested_list:\n",
        "        if isinstance(item, Iterable) and not isinstance(item, (str, bytes)):\n",
        "            max_value = max(max_value, max_in_nested_list(item))  # Recursively find max in sublists\n",
        "        elif isinstance(item, (int, float)):  # Only compare numbers\n",
        "            max_value = max(max_value, item)\n",
        "\n",
        "    return max_value\n",
        "\n",
        "# Example usage:\n",
        "nested = [1, [2, [3, 9], 5], [6, 7], 8]\n",
        "result = max_in_nested_list(nested)\n",
        "print(result)\n"
      ],
      "metadata": {
        "colab": {
          "base_uri": "https://localhost:8080/"
        },
        "id": "5vWVF-yd4B6E",
        "outputId": "f245e3f7-fc7f-4c06-8a6a-2dcbe0518804"
      },
      "execution_count": null,
      "outputs": [
        {
          "output_type": "stream",
          "name": "stdout",
          "text": [
            "9\n"
          ]
        }
      ]
    },
    {
      "cell_type": "markdown",
      "source": [
        "Task 6: Write a Python function that counts how many times a specific element appears in a nested list."
      ],
      "metadata": {
        "id": "OA6KQvTh4Ozk"
      }
    },
    {
      "cell_type": "code",
      "source": [
        "from collections.abc import Iterable\n",
        "\n",
        "def count_element(nested_list, target):\n",
        "    \"\"\"\n",
        "    Recursively counts occurrences of a specific element in a nested list.\n",
        "\n",
        "    Parameters:\n",
        "    nested_list (list): A nested list containing elements or other lists.\n",
        "    target (any): The element to count occurrences of.\n",
        "\n",
        "    Returns:\n",
        "    int: The number of times the target element appears in the nested list.\n",
        "\n",
        "\n",
        "    \"\"\"\n",
        "    count = 0\n",
        "    for item in nested_list:\n",
        "        if isinstance(item, Iterable) and not isinstance(item, (str, bytes)):\n",
        "            count += count_element(item, target)  # Recursively count in sublists\n",
        "        elif item == target:\n",
        "            count += 1  # Increment count for matching elements\n",
        "    return count\n",
        "\n",
        "# Example usage:\n",
        "nested = [1, [2, [3, 4, 3], 5], [6, 7, 3], 3]\n",
        "result = count_element(nested, 3)\n",
        "print(result)\n"
      ],
      "metadata": {
        "colab": {
          "base_uri": "https://localhost:8080/"
        },
        "id": "PM2ITr0-4R6n",
        "outputId": "a192ab4f-f8d3-402e-c61a-84f048e7a87c"
      },
      "execution_count": null,
      "outputs": [
        {
          "output_type": "stream",
          "name": "stdout",
          "text": [
            "4\n"
          ]
        }
      ]
    },
    {
      "cell_type": "markdown",
      "source": [
        "Task 7: Write a Python function that flattens a list of lists of lists into a single list, regardless of the depth."
      ],
      "metadata": {
        "id": "qAO1ASoV4mwB"
      }
    },
    {
      "cell_type": "code",
      "source": [
        "from collections.abc import Iterable\n",
        "\n",
        "def flatten_deeply_nested_list(nested_list):\n",
        "    \"\"\"\n",
        "    Recursively flattens a deeply nested list into a single list.\n",
        "\n",
        "    Parameters:\n",
        "    nested_list (list): A nested list containing elements or other lists.\n",
        "\n",
        "    Returns:\n",
        "    list: A flattened list with all elements in a single dimension.\n",
        "\n",
        "\n",
        "    \"\"\"\n",
        "    flat_list = []\n",
        "    for item in nested_list:\n",
        "        if isinstance(item, Iterable) and not isinstance(item, (str, bytes)):\n",
        "            flat_list.extend(flatten_deeply_nested_list(item))  # Recursively flatten sublists\n",
        "        else:\n",
        "            flat_list.append(item)\n",
        "    return flat_list\n",
        "\n",
        "# Example usage:\n",
        "nested = [1, [2, [3, [4, 5]], [6, 7]], 8]\n",
        "flattened = flatten_deeply_nested_list(nested)\n",
        "print(flattened)  # Output: [1, 2, 3, 4, 5, 6, 7, 8]\n"
      ],
      "metadata": {
        "colab": {
          "base_uri": "https://localhost:8080/"
        },
        "id": "xmt7CXd84nq3",
        "outputId": "1077ed56-e45e-43f6-e257-c85588dcf8f7"
      },
      "execution_count": null,
      "outputs": [
        {
          "output_type": "stream",
          "name": "stdout",
          "text": [
            "[1, 2, 3, 4, 5, 6, 7, 8]\n"
          ]
        }
      ]
    },
    {
      "cell_type": "markdown",
      "source": [
        "Task 8: Write a Python function that calculates the average of all elements in a nested list"
      ],
      "metadata": {
        "id": "Znc1XVLz49u1"
      }
    },
    {
      "cell_type": "code",
      "source": [
        "from collections.abc import Iterable\n",
        "\n",
        "def average_of_nested_list(nested_list):\n",
        "    \"\"\"\n",
        "    Recursively calculates the average of all numerical elements in a nested list.\n",
        "\n",
        "    Parameters:\n",
        "    nested_list (list): A nested list containing numbers or other lists.\n",
        "\n",
        "    Returns:\n",
        "    float: The average of all numbers in the nested list.\n",
        "\n",
        "    \"\"\"\n",
        "    def helper(nested_list):\n",
        "        total = 0\n",
        "        count = 0\n",
        "        for item in nested_list:\n",
        "            if isinstance(item, Iterable) and not isinstance(item, (str, bytes)):\n",
        "                sub_total, sub_count = helper(item)  # Recursively process sublists\n",
        "                total += sub_total\n",
        "                count += sub_count\n",
        "            elif isinstance(item, (int, float)):  # Only count numbers\n",
        "                total += item\n",
        "                count += 1\n",
        "        return total, count\n",
        "\n",
        "    total, count = helper(nested_list)\n",
        "    return total / count if count > 0 else 0  # Avoid division by zero\n",
        "\n",
        "# Example usage:\n",
        "nested = [1, [2, [3, 4], 5], [6, 7], 8]\n",
        "result = average_of_nested_list(nested)\n",
        "print(result)\n"
      ],
      "metadata": {
        "colab": {
          "base_uri": "https://localhost:8080/"
        },
        "id": "SplHeHk25AX_",
        "outputId": "d3359694-83b4-423e-85ea-537b6ec3c183"
      },
      "execution_count": null,
      "outputs": [
        {
          "output_type": "stream",
          "name": "stdout",
          "text": [
            "4.5\n"
          ]
        }
      ]
    },
    {
      "cell_type": "markdown",
      "source": [
        "Numpy"
      ],
      "metadata": {
        "id": "cN7zELMU5SrL"
      }
    },
    {
      "cell_type": "markdown",
      "source": [
        "Array Creation"
      ],
      "metadata": {
        "id": "NRDMyJXt5Uun"
      }
    },
    {
      "cell_type": "markdown",
      "source": [
        "Task 1: Initialize an empty array with size 2x2:"
      ],
      "metadata": {
        "id": "bo1Ph0PQ5Y_r"
      }
    },
    {
      "cell_type": "code",
      "source": [
        "import numpy as np\n",
        "empty_array = np.empty((2, 2))\n",
        "print(\"Empty Array:\\n\", empty_array)"
      ],
      "metadata": {
        "colab": {
          "base_uri": "https://localhost:8080/"
        },
        "id": "V96h-38V5c8V",
        "outputId": "63cdd242-c300-45d1-8777-efcf0b313858"
      },
      "execution_count": null,
      "outputs": [
        {
          "output_type": "stream",
          "name": "stdout",
          "text": [
            "Empty Array:\n",
            " [[2.16435555e-316 0.00000000e+000]\n",
            " [6.59737730e-310 4.86622250e-317]]\n"
          ]
        }
      ]
    },
    {
      "cell_type": "markdown",
      "source": [
        "Task 2: Initialize an empty array with size 4x2:"
      ],
      "metadata": {
        "id": "gvHtGBVF5904"
      }
    },
    {
      "cell_type": "code",
      "source": [
        "ones_array = np.ones((4, 2))\n",
        "print(\"All Ones Array:\\n\", ones_array)"
      ],
      "metadata": {
        "colab": {
          "base_uri": "https://localhost:8080/"
        },
        "id": "E7R6J6VT6B7a",
        "outputId": "4999b149-281c-40e3-9779-1137e6ffe937"
      },
      "execution_count": null,
      "outputs": [
        {
          "output_type": "stream",
          "name": "stdout",
          "text": [
            "All Ones Array:\n",
            " [[1. 1.]\n",
            " [1. 1.]\n",
            " [1. 1.]\n",
            " [1. 1.]]\n"
          ]
        }
      ]
    },
    {
      "cell_type": "markdown",
      "source": [
        "Task 3: Return a new array of a given shape and type, filled with a fill value:"
      ],
      "metadata": {
        "id": "vEEVOGml6Jb1"
      }
    },
    {
      "cell_type": "code",
      "source": [
        "\n",
        "value_array = np.full((3, 3), 7)\n",
        "print(\"\\nArray filled with a specific value (7):\")\n",
        "print(value_array)"
      ],
      "metadata": {
        "colab": {
          "base_uri": "https://localhost:8080/"
        },
        "id": "XNJIJqVQ6L3P",
        "outputId": "7a03b41f-52ce-4ad1-c03d-3ee0d35fbd1c"
      },
      "execution_count": null,
      "outputs": [
        {
          "output_type": "stream",
          "name": "stdout",
          "text": [
            "\n",
            "Array filled with a specific value (7):\n",
            "[[7 7 7]\n",
            " [7 7 7]\n",
            " [7 7 7]]\n"
          ]
        }
      ]
    },
    {
      "cell_type": "markdown",
      "source": [
        "Task 4: Return a new array of zeros with the same shape and type as a given array:"
      ],
      "metadata": {
        "id": "bhCloq6e6VAq"
      }
    },
    {
      "cell_type": "code",
      "source": [
        "template_array = np.array([[1, 2], [3, 4]])\n",
        "zeros_array = np.zeros_like(template_array)\n",
        "print(\"Zeros Array with Same Shape and Type:\\n\", zeros_array)"
      ],
      "metadata": {
        "colab": {
          "base_uri": "https://localhost:8080/"
        },
        "id": "GgKlJgFf6UHp",
        "outputId": "3edf8a08-e38e-4344-c44b-36de29a6b1df"
      },
      "execution_count": null,
      "outputs": [
        {
          "output_type": "stream",
          "name": "stdout",
          "text": [
            "Zeros Array with Same Shape and Type:\n",
            " [[0 0]\n",
            " [0 0]]\n"
          ]
        }
      ]
    },
    {
      "cell_type": "markdown",
      "source": [
        "Task 5: Return a new array of ones with the same shape and type as a given array:"
      ],
      "metadata": {
        "id": "-1z4jblw6ft3"
      }
    },
    {
      "cell_type": "code",
      "source": [
        "ones_like_array = np.ones_like(template_array)\n",
        "print(\"Ones Array with Same Shape and Type:\\n\", ones_like_array)"
      ],
      "metadata": {
        "colab": {
          "base_uri": "https://localhost:8080/"
        },
        "id": "z_yb5bUk6iZE",
        "outputId": "b250d0a5-97f8-482f-ad22-f8b8e04bfb06"
      },
      "execution_count": null,
      "outputs": [
        {
          "output_type": "stream",
          "name": "stdout",
          "text": [
            "Ones Array with Same Shape and Type:\n",
            " [[1 1]\n",
            " [1 1]]\n"
          ]
        }
      ]
    },
    {
      "cell_type": "markdown",
      "source": [
        "Task 6: Convert an existing list new_list = [1, 2, 3, 4] to a numpy array:"
      ],
      "metadata": {
        "id": "QuYvpJ_X6raf"
      }
    },
    {
      "cell_type": "code",
      "source": [
        "my_list = [1, 2, 3, 4]\n",
        "numpy_array = np.array(my_list)\n",
        "print(\"\\nConverted NumPy array from list:\")\n",
        "print(numpy_array)"
      ],
      "metadata": {
        "colab": {
          "base_uri": "https://localhost:8080/"
        },
        "id": "04raDjB-6uJm",
        "outputId": "3686bcf7-c6b5-4bc9-b9c3-fd35ae4d4273"
      },
      "execution_count": null,
      "outputs": [
        {
          "output_type": "stream",
          "name": "stdout",
          "text": [
            "\n",
            "Converted NumPy array from list:\n",
            "[1 2 3 4]\n"
          ]
        }
      ]
    },
    {
      "cell_type": "markdown",
      "source": [
        "Problem 2: Array Manipulation"
      ],
      "metadata": {
        "id": "-GRw7KdJ66IE"
      }
    },
    {
      "cell_type": "markdown",
      "source": [
        "Task 1: Create an array with values ranging from 10 to 49."
      ],
      "metadata": {
        "id": "YKYZN8Tx7DhR"
      }
    },
    {
      "cell_type": "code",
      "source": [
        "array_range = np.arange(10, 50)\n",
        "print(\"Array with values from 10 to 49:\\n\", array_range)"
      ],
      "metadata": {
        "colab": {
          "base_uri": "https://localhost:8080/"
        },
        "id": "aQIsoIN665sw",
        "outputId": "d131f485-f66b-4a14-f1ef-b1bd6349b2b4"
      },
      "execution_count": null,
      "outputs": [
        {
          "output_type": "stream",
          "name": "stdout",
          "text": [
            "Array with values from 10 to 49:\n",
            " [10 11 12 13 14 15 16 17 18 19 20 21 22 23 24 25 26 27 28 29 30 31 32 33\n",
            " 34 35 36 37 38 39 40 41 42 43 44 45 46 47 48 49]\n"
          ]
        }
      ]
    },
    {
      "cell_type": "markdown",
      "source": [
        "Task 2: Create a 3x3 matrix with values ranging from 0 to 8."
      ],
      "metadata": {
        "id": "J8ODaMSI7HZ1"
      }
    },
    {
      "cell_type": "code",
      "source": [
        "matrix_3x3 = np.arange(9).reshape(3, 3)\n",
        "print(\"\\n3x3 matrix with values from 0 to 8:\")\n",
        "print(matrix_3x3)"
      ],
      "metadata": {
        "colab": {
          "base_uri": "https://localhost:8080/"
        },
        "id": "FBP1GfJ-7Kav",
        "outputId": "c4938420-225e-4a75-9634-6cbd580c5ea6"
      },
      "execution_count": null,
      "outputs": [
        {
          "output_type": "stream",
          "name": "stdout",
          "text": [
            "\n",
            "3x3 matrix with values from 0 to 8:\n",
            "[[0 1 2]\n",
            " [3 4 5]\n",
            " [6 7 8]]\n"
          ]
        }
      ]
    },
    {
      "cell_type": "markdown",
      "source": [
        "Task 3: Create a 3x3 identity matrix."
      ],
      "metadata": {
        "id": "YjIrikRW7NFe"
      }
    },
    {
      "cell_type": "code",
      "source": [
        "identity_matrix = np.eye(3)\n",
        "print(\"\\n3x3 identity matrix:\")\n",
        "print(identity_matrix)"
      ],
      "metadata": {
        "colab": {
          "base_uri": "https://localhost:8080/"
        },
        "id": "2L3ceswc7Prx",
        "outputId": "3b7cc04b-8635-462e-94df-85cf04ab833d"
      },
      "execution_count": null,
      "outputs": [
        {
          "output_type": "stream",
          "name": "stdout",
          "text": [
            "\n",
            "3x3 identity matrix:\n",
            "[[1. 0. 0.]\n",
            " [0. 1. 0.]\n",
            " [0. 0. 1.]]\n"
          ]
        }
      ]
    },
    {
      "cell_type": "markdown",
      "source": [
        "Task 4: Create a random array of size 30 and find the mean of the array."
      ],
      "metadata": {
        "id": "Lunrkvka7SV5"
      }
    },
    {
      "cell_type": "code",
      "source": [
        "random_array = np.random.rand(30)\n",
        "mean_value = random_array.mean()\n",
        "print(\"\\nRandom array of size 30:\")\n",
        "print(random_array)\n",
        "print(f\"Mean of the random array: {mean_value}\")\n",
        "random_10x10 = np.random.rand(10, 10)"
      ],
      "metadata": {
        "colab": {
          "base_uri": "https://localhost:8080/"
        },
        "id": "Y3FQmD2O7WjO",
        "outputId": "74e3d9de-8b06-4a0c-fbaf-d3a53b0d1a15"
      },
      "execution_count": null,
      "outputs": [
        {
          "output_type": "stream",
          "name": "stdout",
          "text": [
            "\n",
            "Random array of size 30:\n",
            "[0.1575055  0.12165809 0.12621775 0.60913116 0.1331528  0.77214796\n",
            " 0.83722178 0.19630245 0.95369098 0.06037495 0.19001552 0.87593355\n",
            " 0.68179256 0.53493463 0.1189189  0.29039223 0.06761627 0.34895372\n",
            " 0.92532053 0.19533815 0.55856304 0.0149676  0.89618083 0.37577589\n",
            " 0.51912405 0.97058304 0.93338657 0.18382834 0.8107     0.35882603]\n",
            "Mean of the random array: 0.46061849569587693\n"
          ]
        }
      ]
    },
    {
      "cell_type": "markdown",
      "source": [
        "Task 5: Create a 10x10 array with random values and find the minimum and maximum values."
      ],
      "metadata": {
        "id": "myxVYkWN7gl_"
      }
    },
    {
      "cell_type": "code",
      "source": [
        "min_value = random_10x10.min()\n",
        "max_value = random_10x10.max()\n",
        "print(\"\\n10x10 random array:\")\n",
        "print(random_10x10)\n",
        "print(f\"Min value: {min_value}\")\n",
        "print(f\"Max value: {max_value}\")"
      ],
      "metadata": {
        "colab": {
          "base_uri": "https://localhost:8080/"
        },
        "id": "KmsyF2537hSw",
        "outputId": "9117d5c0-ccc3-419f-ffa6-db9cd694231b"
      },
      "execution_count": null,
      "outputs": [
        {
          "output_type": "stream",
          "name": "stdout",
          "text": [
            "\n",
            "10x10 random array:\n",
            "[[8.29205051e-01 5.38225792e-01 3.42480168e-01 3.33637047e-01\n",
            "  2.06180729e-01 9.64796099e-01 4.68911206e-02 6.49788725e-01\n",
            "  8.18368844e-01 1.01721281e-01]\n",
            " [4.32191759e-01 4.91243026e-01 9.00623182e-01 9.00913019e-01\n",
            "  4.05896881e-01 7.60760937e-01 5.80393631e-01 1.24002848e-01\n",
            "  9.95877183e-02 2.55287325e-01]\n",
            " [8.59592543e-01 5.99652060e-01 2.71845610e-01 9.65396005e-01\n",
            "  1.10093938e-01 7.02843275e-01 8.28613405e-01 6.03424456e-01\n",
            "  2.84419868e-01 1.78260615e-01]\n",
            " [3.75880790e-01 9.29163215e-01 4.67322662e-01 7.07093745e-01\n",
            "  8.73626701e-01 6.95566364e-01 7.35973150e-01 1.24696807e-01\n",
            "  3.05487199e-02 6.50373012e-01]\n",
            " [9.80623107e-01 9.60819705e-01 7.30372379e-01 3.38110808e-01\n",
            "  6.97687881e-01 8.83304194e-02 9.91493214e-01 2.11105313e-01\n",
            "  9.01131568e-01 7.59533475e-02]\n",
            " [2.58908683e-02 9.52190824e-01 3.01936354e-01 5.39514950e-01\n",
            "  3.35633247e-01 2.46793432e-01 5.84013185e-01 1.33824337e-01\n",
            "  5.89633919e-01 5.28941148e-01]\n",
            " [6.36022957e-01 9.62593643e-02 2.53629506e-01 1.93269947e-01\n",
            "  5.90441505e-01 7.77307055e-01 7.27075636e-01 6.86785908e-01\n",
            "  1.52911388e-01 4.02916632e-02]\n",
            " [8.54408582e-01 8.47300517e-01 1.21944429e-01 3.87373575e-01\n",
            "  8.04972785e-01 4.76706849e-01 6.24807092e-01 1.22848361e-02\n",
            "  8.90826726e-01 7.44613329e-02]\n",
            " [9.71638371e-01 4.15670367e-01 8.75507121e-01 7.05516103e-01\n",
            "  1.26483068e-01 4.87031869e-01 1.17005246e-01 2.76907237e-01\n",
            "  6.68675628e-01 8.33651047e-01]\n",
            " [6.44976371e-01 1.90252130e-01 2.83883923e-01 4.30407169e-01\n",
            "  7.97941373e-01 7.26856398e-01 3.87099722e-01 2.10493470e-05\n",
            "  7.96048640e-01 1.78379016e-01]]\n",
            "Min value: 2.104934702162886e-05\n",
            "Max value: 0.9914932144296121\n"
          ]
        }
      ]
    },
    {
      "cell_type": "markdown",
      "source": [
        "Task 6: Create a zero array of size 10 and replace the 5th element with 1."
      ],
      "metadata": {
        "id": "H7y5UB2K7nfl"
      }
    },
    {
      "cell_type": "code",
      "source": [
        "zero_array = np.zeros(10)\n",
        "zero_array[4] = 1  # Index 4 corresponds to the 5th element\n",
        "print(\"Zero Array with 5th Element as 1:\\n\", zero_array)"
      ],
      "metadata": {
        "colab": {
          "base_uri": "https://localhost:8080/"
        },
        "id": "fqdEH6__7rsy",
        "outputId": "85bdfad1-eda0-4daa-cc99-726ecbd1a091"
      },
      "execution_count": null,
      "outputs": [
        {
          "output_type": "stream",
          "name": "stdout",
          "text": [
            "Zero Array with 5th Element as 1:\n",
            " [0. 0. 0. 0. 1. 0. 0. 0. 0. 0.]\n"
          ]
        }
      ]
    },
    {
      "cell_type": "markdown",
      "source": [
        "Task 7: Reverse an array"
      ],
      "metadata": {
        "id": "QM5mfTLY7uIN"
      }
    },
    {
      "cell_type": "code",
      "source": [
        "arr = np.array([1, 2, 0, 0, 4, 0])\n",
        "reversed_arr = arr[::-1]\n",
        "print(\"Reversed Array:\\n\", reversed_arr)"
      ],
      "metadata": {
        "id": "7WXF_CzM71nb",
        "colab": {
          "base_uri": "https://localhost:8080/"
        },
        "outputId": "5ecf18d9-26a1-4283-80c8-8cb95a591dbc"
      },
      "execution_count": null,
      "outputs": [
        {
          "output_type": "stream",
          "name": "stdout",
          "text": [
            "Reversed Array:\n",
            " [0 4 0 0 2 1]\n"
          ]
        }
      ]
    },
    {
      "cell_type": "markdown",
      "source": [
        "Task 8: Create a 2D array with 1 on the border and 0 inside:"
      ],
      "metadata": {
        "id": "VAx1MGuU74nK"
      }
    },
    {
      "cell_type": "code",
      "source": [
        "border_array = np.ones((5, 5))\n",
        "border_array[1:-1, 1:-1] = 0\n",
        "print(\"2D Array with 1 on Border and 0 Inside:\\n\", border_array)"
      ],
      "metadata": {
        "colab": {
          "base_uri": "https://localhost:8080/"
        },
        "id": "PWvD46yH77sa",
        "outputId": "1b10aed6-8198-426f-f09c-218deccca38c"
      },
      "execution_count": null,
      "outputs": [
        {
          "output_type": "stream",
          "name": "stdout",
          "text": [
            "2D Array with 1 on Border and 0 Inside:\n",
            " [[1. 1. 1. 1. 1.]\n",
            " [1. 0. 0. 0. 1.]\n",
            " [1. 0. 0. 0. 1.]\n",
            " [1. 0. 0. 0. 1.]\n",
            " [1. 1. 1. 1. 1.]]\n"
          ]
        }
      ]
    },
    {
      "cell_type": "markdown",
      "source": [
        "Task 9: Create an 8x8 matrix and fill it with a checkerboard pattern:"
      ],
      "metadata": {
        "id": "h_III_fr7_Jz"
      }
    },
    {
      "cell_type": "code",
      "source": [
        "checkerboard = np.zeros((8, 8))\n",
        "checkerboard[1::2, ::2] = 1\n",
        "checkerboard[::2, 1::2] = 1\n",
        "print(\"8x8 Checkerboard Pattern:\\n\", checkerboard)"
      ],
      "metadata": {
        "colab": {
          "base_uri": "https://localhost:8080/"
        },
        "id": "Twq9qYCQ8BfY",
        "outputId": "30add981-f7d1-4fbd-c4ac-d479a99646be"
      },
      "execution_count": null,
      "outputs": [
        {
          "output_type": "stream",
          "name": "stdout",
          "text": [
            "8x8 Checkerboard Pattern:\n",
            " [[0. 1. 0. 1. 0. 1. 0. 1.]\n",
            " [1. 0. 1. 0. 1. 0. 1. 0.]\n",
            " [0. 1. 0. 1. 0. 1. 0. 1.]\n",
            " [1. 0. 1. 0. 1. 0. 1. 0.]\n",
            " [0. 1. 0. 1. 0. 1. 0. 1.]\n",
            " [1. 0. 1. 0. 1. 0. 1. 0.]\n",
            " [0. 1. 0. 1. 0. 1. 0. 1.]\n",
            " [1. 0. 1. 0. 1. 0. 1. 0.]]\n"
          ]
        }
      ]
    },
    {
      "cell_type": "markdown",
      "source": [
        "Problem 3: Array Operations"
      ],
      "metadata": {
        "id": "F1i_jStw8EME"
      }
    },
    {
      "cell_type": "markdown",
      "source": [
        "For the following arrays:"
      ],
      "metadata": {
        "id": "rksZqdTc8GuA"
      }
    },
    {
      "cell_type": "code",
      "source": [
        "x = np.array([[1, 2], [3, 5]])\n",
        "y = np.array([[5, 6], [7, 8]])\n",
        "v = np.array([9, 10])\n",
        "w = np.array([11, 12])"
      ],
      "metadata": {
        "id": "MpbTOINC8Jga"
      },
      "execution_count": null,
      "outputs": []
    },
    {
      "cell_type": "markdown",
      "source": [
        "Task 1: Add the two arrays x and y."
      ],
      "metadata": {
        "id": "Hi4Sgqww8Ue-"
      }
    },
    {
      "cell_type": "code",
      "source": [
        "sum_array = x + y\n",
        "print(\"Sum of Arrays x and y:\\n\", sum_array)"
      ],
      "metadata": {
        "colab": {
          "base_uri": "https://localhost:8080/"
        },
        "id": "TtRrXKht8XJO",
        "outputId": "3bb03a13-9724-4092-cb24-34a10ae243db"
      },
      "execution_count": null,
      "outputs": [
        {
          "output_type": "stream",
          "name": "stdout",
          "text": [
            "Sum of Arrays x and y:\n",
            " [[ 6  8]\n",
            " [10 13]]\n"
          ]
        }
      ]
    },
    {
      "cell_type": "markdown",
      "source": [
        "Task 2: Subtract the two arrays x and y."
      ],
      "metadata": {
        "id": "4VH6ZJs-8adC"
      }
    },
    {
      "cell_type": "code",
      "source": [
        "sub_array = x - y\n",
        "print(\"Subraction of Arrays x and y:\\n\", sub_array)"
      ],
      "metadata": {
        "colab": {
          "base_uri": "https://localhost:8080/"
        },
        "id": "w46WAzb98c7e",
        "outputId": "f5d91f9d-fdef-4030-dcf0-d7c0957524d8"
      },
      "execution_count": null,
      "outputs": [
        {
          "output_type": "stream",
          "name": "stdout",
          "text": [
            "Subraction of Arrays x and y:\n",
            " [[-4 -4]\n",
            " [-4 -3]]\n"
          ]
        }
      ]
    },
    {
      "cell_type": "markdown",
      "source": [
        "Task 3: Multiply the array x with an integer of your choice."
      ],
      "metadata": {
        "id": "Zh3yu9lM8kVC"
      }
    },
    {
      "cell_type": "code",
      "source": [
        "multiplied_array = x * 3  # with 3\n",
        "print(\"Array x Multiplied by 3:\\n\", multiplied_array)"
      ],
      "metadata": {
        "colab": {
          "base_uri": "https://localhost:8080/"
        },
        "id": "HUroj3nM8nAK",
        "outputId": "4239fe32-4678-49a1-feb3-910867feb313"
      },
      "execution_count": null,
      "outputs": [
        {
          "output_type": "stream",
          "name": "stdout",
          "text": [
            "Array x Multiplied by 3:\n",
            " [[ 3  6]\n",
            " [ 9 15]]\n"
          ]
        }
      ]
    },
    {
      "cell_type": "markdown",
      "source": [
        "Task 4: Find the square of each element of the array x."
      ],
      "metadata": {
        "id": "Fg_xXl8N8qru"
      }
    },
    {
      "cell_type": "code",
      "source": [
        "squared_array = np.square(x)\n",
        "print(\"Square of Each Element in Array x:\\n\", squared_array)"
      ],
      "metadata": {
        "colab": {
          "base_uri": "https://localhost:8080/"
        },
        "id": "tixmNKfJ8s6m",
        "outputId": "b9b41731-16f8-40eb-d81c-97d4028ee9f7"
      },
      "execution_count": null,
      "outputs": [
        {
          "output_type": "stream",
          "name": "stdout",
          "text": [
            "Square of Each Element in Array x:\n",
            " [[ 1  4]\n",
            " [ 9 25]]\n"
          ]
        }
      ]
    },
    {
      "cell_type": "markdown",
      "source": [
        "Task 5: Find the dot product."
      ],
      "metadata": {
        "id": "_AQ_Qq408veq"
      }
    },
    {
      "cell_type": "code",
      "source": [
        "dot_vw = np.dot(v, w)\n",
        "dot_xv = np.dot(x, v)\n",
        "dot_xy = np.dot(x, y)\n",
        "print(\"Dot product of v and w:\", dot_vw)\n",
        "print(\"Dot product of x and v:\\n\", dot_xv)\n",
        "print(\"Dot product of x and y:\\n\", dot_xy)"
      ],
      "metadata": {
        "colab": {
          "base_uri": "https://localhost:8080/"
        },
        "id": "CqZ8IvIW8yK0",
        "outputId": "d801c439-c17f-4c38-afe7-bce53b7f0c17"
      },
      "execution_count": null,
      "outputs": [
        {
          "output_type": "stream",
          "name": "stdout",
          "text": [
            "Dot product of v and w: 219\n",
            "Dot product of x and v:\n",
            " [29 77]\n",
            "Dot product of x and y:\n",
            " [[19 22]\n",
            " [50 58]]\n"
          ]
        }
      ]
    },
    {
      "cell_type": "markdown",
      "source": [
        "Task 6 : Concatenate x and y along rows and concatenate v and w along columns:"
      ],
      "metadata": {
        "id": "IImJCURD803Y"
      }
    },
    {
      "cell_type": "code",
      "source": [
        "concatenated_xy_row = np.concatenate((x, y), axis=0)\n",
        "concatenated_vw_col = np.concatenate((v[:, None], w[:, None]), axis=1)\n",
        "print(\"Concatenated x and y along rows:\\n\", concatenated_xy_row)\n",
        "print(\"Concatenated v and w along columns:\\n\", concatenated_vw_col)"
      ],
      "metadata": {
        "colab": {
          "base_uri": "https://localhost:8080/"
        },
        "id": "3rM4xzC_83ac",
        "outputId": "b6597978-488b-41a3-bb1b-ded3112587cc"
      },
      "execution_count": null,
      "outputs": [
        {
          "output_type": "stream",
          "name": "stdout",
          "text": [
            "Concatenated x and y along rows:\n",
            " [[1 2]\n",
            " [3 5]\n",
            " [5 6]\n",
            " [7 8]]\n",
            "Concatenated v and w along columns:\n",
            " [[ 9 11]\n",
            " [10 12]]\n"
          ]
        }
      ]
    },
    {
      "cell_type": "markdown",
      "source": [
        "Problem 4: Matrix Operations"
      ],
      "metadata": {
        "id": "tc3NUGjv89bK"
      }
    },
    {
      "cell_type": "markdown",
      "source": [
        "For the following matrices:"
      ],
      "metadata": {
        "id": "zcer2PoE8-TZ"
      }
    },
    {
      "cell_type": "code",
      "source": [
        "A = np.array([[3, 4], [7, 8]])\n",
        "B = np.array([[5, 3], [2, 1]])"
      ],
      "metadata": {
        "id": "N9lwrO-E9DeG"
      },
      "execution_count": null,
      "outputs": []
    },
    {
      "cell_type": "markdown",
      "source": [
        "Task 1: Prove that A * A^(-1) = I."
      ],
      "metadata": {
        "id": "vN0mfOSY9GNn"
      }
    },
    {
      "cell_type": "code",
      "source": [
        "A_inv = np.linalg.inv(A)\n",
        "identity_matrix = np.dot(A, A_inv)\n",
        "print(\"A * A^(-1) = I:\\n\", identity_matrix)"
      ],
      "metadata": {
        "colab": {
          "base_uri": "https://localhost:8080/"
        },
        "id": "TwKQJqcI9G4L",
        "outputId": "87f1f547-becf-4745-e267-d658e85e823a"
      },
      "execution_count": null,
      "outputs": [
        {
          "output_type": "stream",
          "name": "stdout",
          "text": [
            "A * A^(-1) = I:\n",
            " [[1.00000000e+00 0.00000000e+00]\n",
            " [1.77635684e-15 1.00000000e+00]]\n"
          ]
        }
      ]
    },
    {
      "cell_type": "markdown",
      "source": [
        "Task 2: Prove that AB ≠ BA."
      ],
      "metadata": {
        "id": "8yRrpmYF9JO_"
      }
    },
    {
      "cell_type": "code",
      "source": [
        "AB = np.dot(A, B)\n",
        "BA = np.dot(B, A)\n",
        "print(\"AB:\\n\", AB)\n",
        "print(\"BA:\\n\", BA)"
      ],
      "metadata": {
        "colab": {
          "base_uri": "https://localhost:8080/"
        },
        "id": "CkOS8alU9Lq2",
        "outputId": "21c5a12e-9142-434b-a60b-196b3da4c609"
      },
      "execution_count": null,
      "outputs": [
        {
          "output_type": "stream",
          "name": "stdout",
          "text": [
            "AB:\n",
            " [[23 13]\n",
            " [51 29]]\n",
            "BA:\n",
            " [[36 44]\n",
            " [13 16]]\n"
          ]
        }
      ]
    },
    {
      "cell_type": "markdown",
      "source": [
        "Task 3: Prove that (AB)^T = B^T * A^T."
      ],
      "metadata": {
        "id": "UdxOkU869N1D"
      }
    },
    {
      "cell_type": "code",
      "source": [
        "transpose_AB = np.transpose(np.dot(A, B))\n",
        "transpose_BA = np.dot(np.transpose(B), np.transpose(A))\n",
        "print(\"(AB)^T:\\n\", transpose_AB)\n",
        "print(\"B^T * A^T:\\n\", transpose_BA)"
      ],
      "metadata": {
        "colab": {
          "base_uri": "https://localhost:8080/"
        },
        "id": "uD7qZBP59QIm",
        "outputId": "50973137-149a-4c14-9ef3-6b6e93b69109"
      },
      "execution_count": null,
      "outputs": [
        {
          "output_type": "stream",
          "name": "stdout",
          "text": [
            "(AB)^T:\n",
            " [[23 51]\n",
            " [13 29]]\n",
            "B^T * A^T:\n",
            " [[23 51]\n",
            " [13 29]]\n"
          ]
        }
      ]
    },
    {
      "cell_type": "markdown",
      "source": [
        "Task 4: Solve the system of linear equations using inverse methods"
      ],
      "metadata": {
        "id": "TJ0mU9WE9SIS"
      }
    },
    {
      "cell_type": "code",
      "source": [
        "A_eq = np.array([[2, -3, 1], [1, -1, 2], [3, 1, -1]])\n",
        "B_eq = np.array([-1, -3, 9])\n",
        "\n",
        "X = np.linalg.inv(A_eq).dot(B_eq)\n",
        "print(\"Solution using Inverse Method:\", X)"
      ],
      "metadata": {
        "id": "Zlel-ISW9X2W",
        "colab": {
          "base_uri": "https://localhost:8080/"
        },
        "outputId": "0843a982-5907-4d70-a1d6-c1063aa29bab"
      },
      "execution_count": null,
      "outputs": [
        {
          "output_type": "stream",
          "name": "stdout",
          "text": [
            "Solution using Inverse Method: [ 2.  1. -2.]\n"
          ]
        }
      ]
    },
    {
      "cell_type": "markdown",
      "source": [
        "Problem 5: How Fast is Numpy?"
      ],
      "metadata": {
        "id": "75KxlJ069UNo"
      }
    },
    {
      "cell_type": "markdown",
      "source": [
        "Task 1: Element-wise Addition:"
      ],
      "metadata": {
        "id": "b0_9Ujds9fuv"
      }
    },
    {
      "cell_type": "code",
      "source": [
        "import time\n",
        "\n",
        "# Using Python Lists\n",
        "list1 = [i for i in range(1000000)]\n",
        "list2 = [i for i in range(1000000)]\n",
        "start_time = time.time()\n",
        "list_addition = [list1[i] + list2[i] for i in range(1000000)]\n",
        "print(\"Python List Addition Time:\", time.time() - start_time)\n",
        "\n",
        "# Using NumPy Arrays\n",
        "array1 = np.array(list1)\n",
        "array2 = np.array(list2)\n",
        "start_time = time.time()\n",
        "numpy_addition = array1 + array2\n",
        "print(\"NumPy Array Addition Time:\", time.time() - start_time)\n"
      ],
      "metadata": {
        "colab": {
          "base_uri": "https://localhost:8080/"
        },
        "id": "UmnxTYow9cn7",
        "outputId": "ea61310d-b602-4a94-fabb-5a7631e13847"
      },
      "execution_count": null,
      "outputs": [
        {
          "output_type": "stream",
          "name": "stdout",
          "text": [
            "Python List Addition Time: 0.050364017486572266\n",
            "NumPy Array Addition Time: 0.003036022186279297\n"
          ]
        }
      ]
    },
    {
      "cell_type": "markdown",
      "source": [
        "Task 2: Element-wise Multiplication:"
      ],
      "metadata": {
        "id": "VzXE4q849koS"
      }
    },
    {
      "cell_type": "code",
      "source": [
        "# Using Python Lists\n",
        "start_time = time.time()\n",
        "list_multiplication = [list1[i] * list2[i] for i in range(1000000)]\n",
        "print(\"Python List Multiplication Time:\", time.time() - start_time)\n",
        "\n",
        "# Using NumPy Arrays\n",
        "start_time = time.time()\n",
        "numpy_multiplication = array1 * array2\n",
        "print(\"NumPy Array Multiplication Time:\", time.time() - start_time)"
      ],
      "metadata": {
        "colab": {
          "base_uri": "https://localhost:8080/"
        },
        "id": "3y775wrc9lZw",
        "outputId": "190a5c3c-4648-4195-f664-407eb92dedc1"
      },
      "execution_count": null,
      "outputs": [
        {
          "output_type": "stream",
          "name": "stdout",
          "text": [
            "Python List Multiplication Time: 0.057309865951538086\n",
            "NumPy Array Multiplication Time: 0.0027158260345458984\n"
          ]
        }
      ]
    },
    {
      "cell_type": "markdown",
      "source": [
        "Task 3: Dot Product:"
      ],
      "metadata": {
        "id": "k5ma2wgk9q1t"
      }
    },
    {
      "cell_type": "code",
      "source": [
        "# Using Python Lists\n",
        "start_time = time.time()\n",
        "dot_product_list = sum(list1[i] * list2[i] for i in range(1000000))\n",
        "print(\"Python List Dot Product Time:\", time.time() - start_time)\n",
        "\n",
        "# Using NumPy Arrays\n",
        "start_time = time.time()\n",
        "dot_product_numpy = np.dot(array1, array2)\n",
        "print(\"NumPy Array Dot Product Time:\", time.time() - start_time)"
      ],
      "metadata": {
        "colab": {
          "base_uri": "https://localhost:8080/"
        },
        "id": "38P9xElv9tDL",
        "outputId": "6e43142c-76ec-496d-8f7d-b25cacab0b91"
      },
      "execution_count": null,
      "outputs": [
        {
          "output_type": "stream",
          "name": "stdout",
          "text": [
            "Python List Dot Product Time: 0.07437896728515625\n",
            "NumPy Array Dot Product Time: 0.0010187625885009766\n"
          ]
        }
      ]
    },
    {
      "cell_type": "markdown",
      "source": [
        "Task 4: Matrix Multiplication"
      ],
      "metadata": {
        "id": "h-1PoMGY9wUM"
      }
    },
    {
      "cell_type": "markdown",
      "source": [
        "4. Matrix Multiplication\n",
        "\n",
        "• Using Python lists, perform matrix multiplication of two matrices of size 1000x1000. Mea-\n",
        "sure and print the time taken for this operation.\n",
        "\n",
        "• Using NumPy arrays, perform matrix multiplication of two matrices of size 1000x1000.\n",
        "Measure and print the time taken for this operation."
      ],
      "metadata": {
        "id": "Sbti8_sMPve9"
      }
    },
    {
      "cell_type": "code",
      "source": [
        "matrix1 = [[i + j for j in range(1000)] for i in range(1000)]\n",
        "matrix2 = [[i + j for j in range(1000)] for i in range(1000)]\n",
        "\n",
        "start = time.time()\n",
        "mul_matrix = [[sum(a * b for a, b in zip(row, col)) for col in zip(*matrix2)]\n",
        "              for row in matrix1]\n",
        "\n",
        "print(\"Python list matrix multiplication:\", time.time() - start)"
      ],
      "metadata": {
        "id": "GYuXm24K9zEm",
        "colab": {
          "base_uri": "https://localhost:8080/"
        },
        "outputId": "341ffbe6-caa2-46c0-c2d5-196214ce34a3"
      },
      "execution_count": 50,
      "outputs": [
        {
          "output_type": "stream",
          "name": "stdout",
          "text": [
            "Python list matrix multiplication: 78.67297744750977\n",
            "Python list matrix multiplication: 86.34152150154114\n"
          ]
        }
      ]
    },
    {
      "cell_type": "code",
      "source": [
        "np_matrix1 = np.random.random((1000, 1000))\n",
        "np_matrix2 = np.random.random((1000,1000))\n",
        "\n",
        "start = time.time()\n",
        "mul_matrix = np.dot(matrix1, matrix2)\n",
        "\n",
        "print(\"Numpy array matrix multiplication:\", time.time() - start)"
      ],
      "metadata": {
        "id": "UP2NK-J1QNYN",
        "outputId": "ec7faa22-3ffb-49e9-a3bc-3f3bfdec28b2",
        "colab": {
          "base_uri": "https://localhost:8080/"
        }
      },
      "execution_count": 51,
      "outputs": [
        {
          "output_type": "stream",
          "name": "stdout",
          "text": [
            "Numpy array matrix multiplication: 1.0945000648498535\n"
          ]
        }
      ]
    }
  ]
}